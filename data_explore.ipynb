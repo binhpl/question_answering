{
 "cells": [
  {
   "cell_type": "code",
   "execution_count": 32,
   "id": "bda7d744",
   "metadata": {},
   "outputs": [],
   "source": [
    "import pandas as pd\n",
    "import numpy as np\n",
    "import json\n",
    "import nltk\n",
    "from nltk.tokenize import word_tokenize"
   ]
  },
  {
   "cell_type": "markdown",
   "id": "23f2e09f",
   "metadata": {},
   "source": [
    "## Load json files"
   ]
  },
  {
   "cell_type": "code",
   "execution_count": 3,
   "id": "480c4322",
   "metadata": {},
   "outputs": [],
   "source": [
    "f_train = open('../data/train-v2.0.json')\n",
    "f_dev = open('../data/dev-v2.0.json')\n",
    "train = json.load(f_train)\n",
    "dev = json.load(f_dev)"
   ]
  },
  {
   "cell_type": "code",
   "execution_count": 4,
   "id": "91aaec3b",
   "metadata": {},
   "outputs": [],
   "source": [
    "titles_train = [e['title'] for e in train['data']]\n",
    "titles_dev = [e['title'] for e in dev['data']]"
   ]
  },
  {
   "cell_type": "code",
   "execution_count": 5,
   "id": "9b918569",
   "metadata": {},
   "outputs": [
    {
     "data": {
      "text/plain": [
       "(442, 35)"
      ]
     },
     "execution_count": 5,
     "metadata": {},
     "output_type": "execute_result"
    }
   ],
   "source": [
    "len(titles_train),len(titles_dev)"
   ]
  },
  {
   "cell_type": "markdown",
   "id": "7b8b0fdd",
   "metadata": {},
   "source": [
    "## Transform json to pandas"
   ]
  },
  {
   "cell_type": "code",
   "execution_count": 6,
   "id": "15830221",
   "metadata": {},
   "outputs": [
    {
     "data": {
      "text/plain": [
       "dict_keys(['version', 'data'])"
      ]
     },
     "execution_count": 6,
     "metadata": {},
     "output_type": "execute_result"
    }
   ],
   "source": [
    "train.keys()"
   ]
  },
  {
   "cell_type": "code",
   "execution_count": 7,
   "id": "9f67720f",
   "metadata": {},
   "outputs": [
    {
     "data": {
      "text/plain": [
       "'v2.0'"
      ]
     },
     "execution_count": 7,
     "metadata": {},
     "output_type": "execute_result"
    }
   ],
   "source": [
    "train['version']"
   ]
  },
  {
   "cell_type": "code",
   "execution_count": 8,
   "id": "f61cc76b",
   "metadata": {},
   "outputs": [
    {
     "data": {
      "text/plain": [
       "dict_keys(['title', 'paragraphs'])"
      ]
     },
     "execution_count": 8,
     "metadata": {},
     "output_type": "execute_result"
    }
   ],
   "source": [
    "train['data'][0].keys()"
   ]
  },
  {
   "cell_type": "code",
   "execution_count": 9,
   "id": "3c425f78",
   "metadata": {},
   "outputs": [
    {
     "data": {
      "text/plain": [
       "'Beyoncé'"
      ]
     },
     "execution_count": 9,
     "metadata": {},
     "output_type": "execute_result"
    }
   ],
   "source": [
    "train['data'][0]['title']"
   ]
  },
  {
   "cell_type": "code",
   "execution_count": 10,
   "id": "65220681",
   "metadata": {},
   "outputs": [
    {
     "data": {
      "text/plain": [
       "dict_keys(['qas', 'context'])"
      ]
     },
     "execution_count": 10,
     "metadata": {},
     "output_type": "execute_result"
    }
   ],
   "source": [
    "train['data'][0]['paragraphs'][0].keys()"
   ]
  },
  {
   "cell_type": "code",
   "execution_count": 11,
   "id": "0e2af0da",
   "metadata": {},
   "outputs": [
    {
     "data": {
      "text/plain": [
       "'Beyoncé Giselle Knowles-Carter (/biːˈjɒnseɪ/ bee-YON-say) (born September 4, 1981) is an American singer, songwriter, record producer and actress. Born and raised in Houston, Texas, she performed in various singing and dancing competitions as a child, and rose to fame in the late 1990s as lead singer of R&B girl-group Destiny\\'s Child. Managed by her father, Mathew Knowles, the group became one of the world\\'s best-selling girl groups of all time. Their hiatus saw the release of Beyoncé\\'s debut album, Dangerously in Love (2003), which established her as a solo artist worldwide, earned five Grammy Awards and featured the Billboard Hot 100 number-one singles \"Crazy in Love\" and \"Baby Boy\".'"
      ]
     },
     "execution_count": 11,
     "metadata": {},
     "output_type": "execute_result"
    }
   ],
   "source": [
    "train['data'][0]['paragraphs'][0]['context']"
   ]
  },
  {
   "cell_type": "code",
   "execution_count": 12,
   "id": "a304ea55",
   "metadata": {},
   "outputs": [
    {
     "data": {
      "text/plain": [
       "dict_keys(['question', 'id', 'answers', 'is_impossible'])"
      ]
     },
     "execution_count": 12,
     "metadata": {},
     "output_type": "execute_result"
    }
   ],
   "source": [
    "train['data'][0]['paragraphs'][0]['qas'][0].keys()"
   ]
  },
  {
   "cell_type": "code",
   "execution_count": 13,
   "id": "63e7b797",
   "metadata": {},
   "outputs": [
    {
     "data": {
      "text/plain": [
       "'When did Beyonce start becoming popular?'"
      ]
     },
     "execution_count": 13,
     "metadata": {},
     "output_type": "execute_result"
    }
   ],
   "source": [
    "train['data'][0]['paragraphs'][0]['qas'][0]['question']"
   ]
  },
  {
   "cell_type": "code",
   "execution_count": 14,
   "id": "36f3514a",
   "metadata": {},
   "outputs": [
    {
     "data": {
      "text/plain": [
       "'56be85543aeaaa14008c9063'"
      ]
     },
     "execution_count": 14,
     "metadata": {},
     "output_type": "execute_result"
    }
   ],
   "source": [
    "train['data'][0]['paragraphs'][0]['qas'][0]['id']"
   ]
  },
  {
   "cell_type": "code",
   "execution_count": 15,
   "id": "c387ca48",
   "metadata": {},
   "outputs": [
    {
     "data": {
      "text/plain": [
       "[{'text': 'in the late 1990s', 'answer_start': 269}]"
      ]
     },
     "execution_count": 15,
     "metadata": {},
     "output_type": "execute_result"
    }
   ],
   "source": [
    "train['data'][0]['paragraphs'][0]['qas'][0]['answers']"
   ]
  },
  {
   "cell_type": "code",
   "execution_count": 16,
   "id": "76645d71",
   "metadata": {},
   "outputs": [
    {
     "data": {
      "text/plain": [
       "False"
      ]
     },
     "execution_count": 16,
     "metadata": {},
     "output_type": "execute_result"
    }
   ],
   "source": [
    "train['data'][0]['paragraphs'][0]['qas'][0]['is_impossible']"
   ]
  },
  {
   "cell_type": "code",
   "execution_count": 17,
   "id": "66733872",
   "metadata": {},
   "outputs": [],
   "source": [
    "def turn_json_to_pd(df_json):\n",
    "    titles=[]\n",
    "    contexts = []\n",
    "    questions = []\n",
    "    answers_text = []\n",
    "    answers_start = []\n",
    "    is_impossible = []\n",
    "    for subject in df_json['data']:\n",
    "        for para in subject['paragraphs']:\n",
    "            for qas in para['qas']:\n",
    "                contexts.append(para['context'])\n",
    "                questions.append(qas['question'])\n",
    "                titles.append(subject['title'])\n",
    "                is_impossible.append(qas['is_impossible'])\n",
    "                if(len(qas['answers'])>0):\n",
    "                    answers_text.append(qas['answers'][0]['text'])\n",
    "                    answers_start.append(qas['answers'][0]['answer_start'])\n",
    "                else:\n",
    "                    answers_text.append('')\n",
    "                    answers_start.append(-1)\n",
    "                    \n",
    "    df_pandas = pd.DataFrame({\"title\":titles,\"context\":contexts, \"question\": questions, \"answer_start\": answers_start,\\\n",
    "                              \"text\": answers_text,\"is_impossible\":is_impossible})\n",
    "\n",
    "    return df_pandas"
   ]
  },
  {
   "cell_type": "code",
   "execution_count": 18,
   "id": "0b16ec2f",
   "metadata": {},
   "outputs": [],
   "source": [
    "df_pandas_train = turn_json_to_pd(train)\n",
    "df_pandas_dev = turn_json_to_pd(dev)"
   ]
  },
  {
   "cell_type": "code",
   "execution_count": 19,
   "id": "daca7f93",
   "metadata": {},
   "outputs": [],
   "source": [
    "df_pandas_train['is_impossible'] = df_pandas_train['is_impossible'].astype(int)"
   ]
  },
  {
   "cell_type": "code",
   "execution_count": 20,
   "id": "81a8db67",
   "metadata": {},
   "outputs": [
    {
     "data": {
      "text/plain": [
       "(43498, 6)"
      ]
     },
     "execution_count": 20,
     "metadata": {},
     "output_type": "execute_result"
    }
   ],
   "source": [
    "df_pandas_train.query('is_impossible == 1').shape"
   ]
  },
  {
   "cell_type": "code",
   "execution_count": 21,
   "id": "b28713e3",
   "metadata": {},
   "outputs": [
    {
     "data": {
      "text/plain": [
       "(130319, 6)"
      ]
     },
     "execution_count": 21,
     "metadata": {},
     "output_type": "execute_result"
    }
   ],
   "source": [
    "df_pandas_train.shape"
   ]
  },
  {
   "cell_type": "code",
   "execution_count": 22,
   "id": "9febfe09",
   "metadata": {},
   "outputs": [
    {
     "data": {
      "text/plain": [
       "(5945, 6)"
      ]
     },
     "execution_count": 22,
     "metadata": {},
     "output_type": "execute_result"
    }
   ],
   "source": [
    "df_pandas_dev.query('is_impossible == 1').shape"
   ]
  },
  {
   "cell_type": "code",
   "execution_count": 23,
   "id": "426e88ee",
   "metadata": {},
   "outputs": [
    {
     "data": {
      "text/plain": [
       "(11873, 6)"
      ]
     },
     "execution_count": 23,
     "metadata": {},
     "output_type": "execute_result"
    }
   ],
   "source": [
    "df_pandas_dev.shape"
   ]
  },
  {
   "cell_type": "code",
   "execution_count": 24,
   "id": "673e80e3",
   "metadata": {},
   "outputs": [],
   "source": [
    "pd.to_pickle(df_pandas_train,'../data/train.pkl')\n",
    "pd.to_pickle(df_pandas_dev,'../data/dev.pkl')"
   ]
  },
  {
   "cell_type": "markdown",
   "id": "feb5b40d",
   "metadata": {},
   "source": [
    "## Some explo"
   ]
  },
  {
   "cell_type": "code",
   "execution_count": 25,
   "id": "a429b74d",
   "metadata": {},
   "outputs": [
    {
     "data": {
      "text/plain": [
       "(43498, 6)"
      ]
     },
     "execution_count": 25,
     "metadata": {},
     "output_type": "execute_result"
    }
   ],
   "source": [
    "df_pandas_train.query('is_impossible == 1').shape"
   ]
  },
  {
   "cell_type": "code",
   "execution_count": 26,
   "id": "5de4761f",
   "metadata": {},
   "outputs": [
    {
     "data": {
      "text/html": [
       "<div>\n",
       "<style scoped>\n",
       "    .dataframe tbody tr th:only-of-type {\n",
       "        vertical-align: middle;\n",
       "    }\n",
       "\n",
       "    .dataframe tbody tr th {\n",
       "        vertical-align: top;\n",
       "    }\n",
       "\n",
       "    .dataframe thead th {\n",
       "        text-align: right;\n",
       "    }\n",
       "</style>\n",
       "<table border=\"1\" class=\"dataframe\">\n",
       "  <thead>\n",
       "    <tr style=\"text-align: right;\">\n",
       "      <th></th>\n",
       "      <th>title</th>\n",
       "      <th>context</th>\n",
       "      <th>question</th>\n",
       "      <th>answer_start</th>\n",
       "      <th>text</th>\n",
       "      <th>is_impossible</th>\n",
       "    </tr>\n",
       "  </thead>\n",
       "  <tbody>\n",
       "    <tr>\n",
       "      <th>0</th>\n",
       "      <td>Beyoncé</td>\n",
       "      <td>Beyoncé Giselle Knowles-Carter (/biːˈjɒnseɪ/ b...</td>\n",
       "      <td>When did Beyonce start becoming popular?</td>\n",
       "      <td>269</td>\n",
       "      <td>in the late 1990s</td>\n",
       "      <td>0</td>\n",
       "    </tr>\n",
       "    <tr>\n",
       "      <th>1</th>\n",
       "      <td>Beyoncé</td>\n",
       "      <td>Beyoncé Giselle Knowles-Carter (/biːˈjɒnseɪ/ b...</td>\n",
       "      <td>What areas did Beyonce compete in when she was...</td>\n",
       "      <td>207</td>\n",
       "      <td>singing and dancing</td>\n",
       "      <td>0</td>\n",
       "    </tr>\n",
       "    <tr>\n",
       "      <th>2</th>\n",
       "      <td>Beyoncé</td>\n",
       "      <td>Beyoncé Giselle Knowles-Carter (/biːˈjɒnseɪ/ b...</td>\n",
       "      <td>When did Beyonce leave Destiny's Child and bec...</td>\n",
       "      <td>526</td>\n",
       "      <td>2003</td>\n",
       "      <td>0</td>\n",
       "    </tr>\n",
       "    <tr>\n",
       "      <th>3</th>\n",
       "      <td>Beyoncé</td>\n",
       "      <td>Beyoncé Giselle Knowles-Carter (/biːˈjɒnseɪ/ b...</td>\n",
       "      <td>In what city and state did Beyonce  grow up?</td>\n",
       "      <td>166</td>\n",
       "      <td>Houston, Texas</td>\n",
       "      <td>0</td>\n",
       "    </tr>\n",
       "    <tr>\n",
       "      <th>4</th>\n",
       "      <td>Beyoncé</td>\n",
       "      <td>Beyoncé Giselle Knowles-Carter (/biːˈjɒnseɪ/ b...</td>\n",
       "      <td>In which decade did Beyonce become famous?</td>\n",
       "      <td>276</td>\n",
       "      <td>late 1990s</td>\n",
       "      <td>0</td>\n",
       "    </tr>\n",
       "  </tbody>\n",
       "</table>\n",
       "</div>"
      ],
      "text/plain": [
       "     title                                            context  \\\n",
       "0  Beyoncé  Beyoncé Giselle Knowles-Carter (/biːˈjɒnseɪ/ b...   \n",
       "1  Beyoncé  Beyoncé Giselle Knowles-Carter (/biːˈjɒnseɪ/ b...   \n",
       "2  Beyoncé  Beyoncé Giselle Knowles-Carter (/biːˈjɒnseɪ/ b...   \n",
       "3  Beyoncé  Beyoncé Giselle Knowles-Carter (/biːˈjɒnseɪ/ b...   \n",
       "4  Beyoncé  Beyoncé Giselle Knowles-Carter (/biːˈjɒnseɪ/ b...   \n",
       "\n",
       "                                            question  answer_start  \\\n",
       "0           When did Beyonce start becoming popular?           269   \n",
       "1  What areas did Beyonce compete in when she was...           207   \n",
       "2  When did Beyonce leave Destiny's Child and bec...           526   \n",
       "3      In what city and state did Beyonce  grow up?            166   \n",
       "4         In which decade did Beyonce become famous?           276   \n",
       "\n",
       "                  text  is_impossible  \n",
       "0    in the late 1990s              0  \n",
       "1  singing and dancing              0  \n",
       "2                 2003              0  \n",
       "3       Houston, Texas              0  \n",
       "4           late 1990s              0  "
      ]
     },
     "execution_count": 26,
     "metadata": {},
     "output_type": "execute_result"
    }
   ],
   "source": [
    "df_pandas_train.head()"
   ]
  },
  {
   "cell_type": "code",
   "execution_count": 55,
   "id": "ba401325",
   "metadata": {},
   "outputs": [
    {
     "data": {
      "text/plain": [
       "(43498, 6)"
      ]
     },
     "execution_count": 55,
     "metadata": {},
     "output_type": "execute_result"
    }
   ],
   "source": [
    "df_pandas_train.query('answer_start < 0').shape"
   ]
  },
  {
   "cell_type": "code",
   "execution_count": 38,
   "id": "bc543734",
   "metadata": {},
   "outputs": [],
   "source": [
    "question_words = ['What','Which','Who','Where','Why','When','How','Whose','Whom']"
   ]
  },
  {
   "cell_type": "code",
   "execution_count": 39,
   "id": "80c8f68a",
   "metadata": {},
   "outputs": [],
   "source": [
    "question_words = [e.lower() for e in question_words]"
   ]
  },
  {
   "cell_type": "code",
   "execution_count": 40,
   "id": "d991001c",
   "metadata": {},
   "outputs": [],
   "source": [
    "questions = list(df_pandas_train['question'])"
   ]
  },
  {
   "cell_type": "code",
   "execution_count": 41,
   "id": "1507cb99",
   "metadata": {},
   "outputs": [
    {
     "data": {
      "text/plain": [
       "130319"
      ]
     },
     "execution_count": 41,
     "metadata": {},
     "output_type": "execute_result"
    }
   ],
   "source": [
    "len(questions)"
   ]
  },
  {
   "cell_type": "code",
   "execution_count": 42,
   "id": "78c1f22b",
   "metadata": {},
   "outputs": [],
   "source": [
    "questions00 = {}\n",
    "for e in questions:\n",
    "    #l=[]\n",
    "    words = word_tokenize(e)\n",
    "    words = [word.lower() for word in words]\n",
    "    l=set(words).intersection(set(question_words))\n",
    "    l=list(l)\n",
    "    questions00[e] = l"
   ]
  },
  {
   "cell_type": "code",
   "execution_count": 43,
   "id": "c0d1ec23",
   "metadata": {},
   "outputs": [
    {
     "data": {
      "text/plain": [
       "(1820, 124673, 3693, 31, 0)"
      ]
     },
     "execution_count": 43,
     "metadata": {},
     "output_type": "execute_result"
    }
   ],
   "source": [
    "len([e for e in questions00 if( len(questions00[e]))==0 ]),\\\n",
    "len([e for e in questions00 if( len(questions00[e]))==1 ]),\\\n",
    "len([e for e in questions00 if( len(questions00[e]))==2 ]),\\\n",
    "len([e for e in questions00 if( len(questions00[e]))==3 ]),\\\n",
    "len([e for e in questions00 if( len(questions00[e]))==4 ]),\\\n"
   ]
  },
  {
   "cell_type": "code",
   "execution_count": 45,
   "id": "1ae52574",
   "metadata": {},
   "outputs": [
    {
     "data": {
      "text/plain": [
       "0.9566755423230687"
      ]
     },
     "execution_count": 45,
     "metadata": {},
     "output_type": "execute_result"
    }
   ],
   "source": [
    "124673 / len(questions)"
   ]
  },
  {
   "cell_type": "code",
   "execution_count": 46,
   "id": "666ebe63",
   "metadata": {},
   "outputs": [],
   "source": [
    "questions01 = [e for e in questions00 if( len(questions00[e]))==1 ]"
   ]
  },
  {
   "cell_type": "code",
   "execution_count": 58,
   "id": "1eb296f7",
   "metadata": {},
   "outputs": [
    {
     "data": {
      "text/plain": [
       "('What was the date that LIszt first saw Chopin perform?', ['what'])"
      ]
     },
     "execution_count": 58,
     "metadata": {},
     "output_type": "execute_result"
    }
   ],
   "source": [
    "i=1000\n",
    "questions01[i],questions00[questions01[i]]"
   ]
  },
  {
   "cell_type": "code",
   "execution_count": 60,
   "id": "ac8a29ed",
   "metadata": {},
   "outputs": [
    {
     "data": {
      "text/plain": [
       "124673"
      ]
     },
     "execution_count": 60,
     "metadata": {},
     "output_type": "execute_result"
    }
   ],
   "source": [
    "len(set(questions01))"
   ]
  },
  {
   "cell_type": "code",
   "execution_count": 61,
   "id": "5df228a3",
   "metadata": {},
   "outputs": [],
   "source": [
    "dict00={}\n",
    "for e in question_words:\n",
    "    dict00[e] = 0\n",
    "for e in questions01:\n",
    "    dict00[questions00[e][0]] += 1"
   ]
  },
  {
   "cell_type": "code",
   "execution_count": 64,
   "id": "731634c5",
   "metadata": {},
   "outputs": [
    {
     "data": {
      "text/plain": [
       "{'what': 74852,\n",
       " 'which': 8056,\n",
       " 'who': 13088,\n",
       " 'where': 5157,\n",
       " 'why': 1870,\n",
       " 'when': 7804,\n",
       " 'how': 12957,\n",
       " 'whose': 447,\n",
       " 'whom': 442}"
      ]
     },
     "execution_count": 64,
     "metadata": {},
     "output_type": "execute_result"
    }
   ],
   "source": [
    "dict00"
   ]
  },
  {
   "cell_type": "code",
   "execution_count": 65,
   "id": "b135d23b",
   "metadata": {},
   "outputs": [
    {
     "data": {
      "text/plain": [
       "263168"
      ]
     },
     "execution_count": 65,
     "metadata": {},
     "output_type": "execute_result"
    }
   ],
   "source": [
    "256 * 1024 + 1024"
   ]
  },
  {
   "cell_type": "code",
   "execution_count": null,
   "id": "5c85fa93",
   "metadata": {},
   "outputs": [],
   "source": []
  }
 ],
 "metadata": {
  "kernelspec": {
   "display_name": "Python 3 (ipykernel)",
   "language": "python",
   "name": "python3"
  },
  "language_info": {
   "codemirror_mode": {
    "name": "ipython",
    "version": 3
   },
   "file_extension": ".py",
   "mimetype": "text/x-python",
   "name": "python",
   "nbconvert_exporter": "python",
   "pygments_lexer": "ipython3",
   "version": "3.7.3"
  }
 },
 "nbformat": 4,
 "nbformat_minor": 5
}
